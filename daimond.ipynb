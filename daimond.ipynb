{
  "nbformat": 4,
  "nbformat_minor": 0,
  "metadata": {
    "colab": {
      "name": "daimond.ipynb",
      "version": "0.3.2",
      "provenance": []
    },
    "kernelspec": {
      "name": "python3",
      "display_name": "Python 3"
    }
  },
  "cells": [
    {
      "metadata": {
        "id": "NP77UvYE0C9u",
        "colab_type": "code",
        "colab": {
          "base_uri": "https://localhost:8080/",
          "height": 34
        },
        "outputId": "8e1c0312-b403-4b91-dcf3-08246698e100"
      },
      "cell_type": "code",
      "source": [
        "from google.colab import drive\n",
        "drive.mount('/content/drive')"
      ],
      "execution_count": 64,
      "outputs": [
        {
          "output_type": "stream",
          "text": [
            "Drive already mounted at /content/drive; to attempt to forcibly remount, call drive.mount(\"/content/drive\", force_remount=True).\n"
          ],
          "name": "stdout"
        }
      ]
    },
    {
      "metadata": {
        "id": "KakpDStf0XPP",
        "colab_type": "code",
        "colab": {
          "base_uri": "https://localhost:8080/",
          "height": 51
        },
        "outputId": "fcc18598-578e-482d-91e1-094227272e94"
      },
      "cell_type": "code",
      "source": [
        "cd drive"
      ],
      "execution_count": 65,
      "outputs": [
        {
          "output_type": "stream",
          "text": [
            "[Errno 2] No such file or directory: 'drive'\n",
            "/content/drive/My Drive/diamond\n"
          ],
          "name": "stdout"
        }
      ]
    },
    {
      "metadata": {
        "id": "RjV4nWlz0pOT",
        "colab_type": "code",
        "colab": {
          "base_uri": "https://localhost:8080/",
          "height": 51
        },
        "outputId": "e9d80856-ec50-4ead-b01f-cffe102a4deb"
      },
      "cell_type": "code",
      "source": [
        "cd My Drive"
      ],
      "execution_count": 66,
      "outputs": [
        {
          "output_type": "stream",
          "text": [
            "[Errno 2] No such file or directory: 'My Drive'\n",
            "/content/drive/My Drive/diamond\n"
          ],
          "name": "stdout"
        }
      ]
    },
    {
      "metadata": {
        "id": "8Uum3Md40q9d",
        "colab_type": "code",
        "colab": {
          "base_uri": "https://localhost:8080/",
          "height": 51
        },
        "outputId": "a7c5c795-712c-4287-a4c3-2d2f094b04a6"
      },
      "cell_type": "code",
      "source": [
        "cd diamond"
      ],
      "execution_count": 67,
      "outputs": [
        {
          "output_type": "stream",
          "text": [
            "[Errno 2] No such file or directory: 'diamond'\n",
            "/content/drive/My Drive/diamond\n"
          ],
          "name": "stdout"
        }
      ]
    },
    {
      "metadata": {
        "id": "jK-j-gpb0t5q",
        "colab_type": "code",
        "colab": {
          "base_uri": "https://localhost:8080/",
          "height": 34
        },
        "outputId": "dba39f0d-6a86-465e-9a33-4ff22c7c8516"
      },
      "cell_type": "code",
      "source": [
        "!ls"
      ],
      "execution_count": 68,
      "outputs": [
        {
          "output_type": "stream",
          "text": [
            "diamonds.csv  new-diamonds.csv\n"
          ],
          "name": "stdout"
        }
      ]
    },
    {
      "metadata": {
        "id": "nRNAYmR60v4D",
        "colab_type": "code",
        "colab": {}
      },
      "cell_type": "code",
      "source": [
        "import pandas as pd\n",
        "import numpy as np"
      ],
      "execution_count": 0,
      "outputs": []
    },
    {
      "metadata": {
        "id": "e45qlbcv02BM",
        "colab_type": "code",
        "colab": {}
      },
      "cell_type": "code",
      "source": [
        "train_data = pd.read_csv(\"diamonds.csv\")\n",
        "test_data =  pd.read_csv(\"new-diamonds.csv\")"
      ],
      "execution_count": 0,
      "outputs": []
    },
    {
      "metadata": {
        "id": "Av9gnzO21B5g",
        "colab_type": "code",
        "colab": {
          "base_uri": "https://localhost:8080/",
          "height": 204
        },
        "outputId": "fe2ebde3-6fcc-4a52-8f2e-4c7d9fddf3af"
      },
      "cell_type": "code",
      "source": [
        "train_data.head()"
      ],
      "execution_count": 71,
      "outputs": [
        {
          "output_type": "execute_result",
          "data": {
            "text/html": [
              "<div>\n",
              "<style scoped>\n",
              "    .dataframe tbody tr th:only-of-type {\n",
              "        vertical-align: middle;\n",
              "    }\n",
              "\n",
              "    .dataframe tbody tr th {\n",
              "        vertical-align: top;\n",
              "    }\n",
              "\n",
              "    .dataframe thead th {\n",
              "        text-align: right;\n",
              "    }\n",
              "</style>\n",
              "<table border=\"1\" class=\"dataframe\">\n",
              "  <thead>\n",
              "    <tr style=\"text-align: right;\">\n",
              "      <th></th>\n",
              "      <th>Unnamed: 0</th>\n",
              "      <th>carat</th>\n",
              "      <th>cut</th>\n",
              "      <th>cut_ord</th>\n",
              "      <th>color</th>\n",
              "      <th>clarity</th>\n",
              "      <th>clarity_ord</th>\n",
              "      <th>price</th>\n",
              "    </tr>\n",
              "  </thead>\n",
              "  <tbody>\n",
              "    <tr>\n",
              "      <th>0</th>\n",
              "      <td>1</td>\n",
              "      <td>0.51</td>\n",
              "      <td>Premium</td>\n",
              "      <td>4</td>\n",
              "      <td>F</td>\n",
              "      <td>VS1</td>\n",
              "      <td>4</td>\n",
              "      <td>1749</td>\n",
              "    </tr>\n",
              "    <tr>\n",
              "      <th>1</th>\n",
              "      <td>2</td>\n",
              "      <td>2.25</td>\n",
              "      <td>Fair</td>\n",
              "      <td>1</td>\n",
              "      <td>G</td>\n",
              "      <td>I1</td>\n",
              "      <td>1</td>\n",
              "      <td>7069</td>\n",
              "    </tr>\n",
              "    <tr>\n",
              "      <th>2</th>\n",
              "      <td>3</td>\n",
              "      <td>0.70</td>\n",
              "      <td>Very Good</td>\n",
              "      <td>3</td>\n",
              "      <td>E</td>\n",
              "      <td>VS2</td>\n",
              "      <td>5</td>\n",
              "      <td>2757</td>\n",
              "    </tr>\n",
              "    <tr>\n",
              "      <th>3</th>\n",
              "      <td>4</td>\n",
              "      <td>0.47</td>\n",
              "      <td>Good</td>\n",
              "      <td>2</td>\n",
              "      <td>F</td>\n",
              "      <td>VS1</td>\n",
              "      <td>4</td>\n",
              "      <td>1243</td>\n",
              "    </tr>\n",
              "    <tr>\n",
              "      <th>4</th>\n",
              "      <td>5</td>\n",
              "      <td>0.30</td>\n",
              "      <td>Ideal</td>\n",
              "      <td>5</td>\n",
              "      <td>G</td>\n",
              "      <td>VVS1</td>\n",
              "      <td>7</td>\n",
              "      <td>789</td>\n",
              "    </tr>\n",
              "  </tbody>\n",
              "</table>\n",
              "</div>"
            ],
            "text/plain": [
              "   Unnamed: 0  carat        cut  cut_ord color clarity  clarity_ord  price\n",
              "0           1   0.51    Premium        4     F     VS1            4   1749\n",
              "1           2   2.25       Fair        1     G      I1            1   7069\n",
              "2           3   0.70  Very Good        3     E     VS2            5   2757\n",
              "3           4   0.47       Good        2     F     VS1            4   1243\n",
              "4           5   0.30      Ideal        5     G    VVS1            7    789"
            ]
          },
          "metadata": {
            "tags": []
          },
          "execution_count": 71
        }
      ]
    },
    {
      "metadata": {
        "id": "CXdImMwb1FIw",
        "colab_type": "code",
        "colab": {
          "base_uri": "https://localhost:8080/",
          "height": 34
        },
        "outputId": "c6ecb465-2b12-4016-ea17-e89bcc2b458f"
      },
      "cell_type": "code",
      "source": [
        "train_data.shape"
      ],
      "execution_count": 72,
      "outputs": [
        {
          "output_type": "execute_result",
          "data": {
            "text/plain": [
              "(50000, 8)"
            ]
          },
          "metadata": {
            "tags": []
          },
          "execution_count": 72
        }
      ]
    },
    {
      "metadata": {
        "id": "NLxbRgDC1KMf",
        "colab_type": "code",
        "colab": {
          "base_uri": "https://localhost:8080/",
          "height": 238
        },
        "outputId": "9ee232ab-44dc-4f65-b50c-9d44a1ae660b"
      },
      "cell_type": "code",
      "source": [
        "train_data.info()"
      ],
      "execution_count": 73,
      "outputs": [
        {
          "output_type": "stream",
          "text": [
            "<class 'pandas.core.frame.DataFrame'>\n",
            "RangeIndex: 50000 entries, 0 to 49999\n",
            "Data columns (total 8 columns):\n",
            "Unnamed: 0     50000 non-null int64\n",
            "carat          50000 non-null float64\n",
            "cut            50000 non-null object\n",
            "cut_ord        50000 non-null int64\n",
            "color          50000 non-null object\n",
            "clarity        50000 non-null object\n",
            "clarity_ord    50000 non-null int64\n",
            "price          50000 non-null int64\n",
            "dtypes: float64(1), int64(4), object(3)\n",
            "memory usage: 3.1+ MB\n"
          ],
          "name": "stdout"
        }
      ]
    },
    {
      "metadata": {
        "id": "76lsG6zr1Nms",
        "colab_type": "code",
        "colab": {
          "base_uri": "https://localhost:8080/",
          "height": 68
        },
        "outputId": "fe8d2f66-86fb-46cb-bbeb-5bab707a5403"
      },
      "cell_type": "code",
      "source": [
        "train_data.columns"
      ],
      "execution_count": 74,
      "outputs": [
        {
          "output_type": "execute_result",
          "data": {
            "text/plain": [
              "Index(['Unnamed: 0', 'carat', 'cut', 'cut_ord', 'color', 'clarity',\n",
              "       'clarity_ord', 'price'],\n",
              "      dtype='object')"
            ]
          },
          "metadata": {
            "tags": []
          },
          "execution_count": 74
        }
      ]
    },
    {
      "metadata": {
        "id": "rAUUlQ7Y1u9t",
        "colab_type": "code",
        "colab": {
          "base_uri": "https://localhost:8080/",
          "height": 297
        },
        "outputId": "80c6fcf9-799a-400e-a47f-b4ffe73570ad"
      },
      "cell_type": "code",
      "source": [
        "train_data.describe()"
      ],
      "execution_count": 75,
      "outputs": [
        {
          "output_type": "execute_result",
          "data": {
            "text/html": [
              "<div>\n",
              "<style scoped>\n",
              "    .dataframe tbody tr th:only-of-type {\n",
              "        vertical-align: middle;\n",
              "    }\n",
              "\n",
              "    .dataframe tbody tr th {\n",
              "        vertical-align: top;\n",
              "    }\n",
              "\n",
              "    .dataframe thead th {\n",
              "        text-align: right;\n",
              "    }\n",
              "</style>\n",
              "<table border=\"1\" class=\"dataframe\">\n",
              "  <thead>\n",
              "    <tr style=\"text-align: right;\">\n",
              "      <th></th>\n",
              "      <th>Unnamed: 0</th>\n",
              "      <th>carat</th>\n",
              "      <th>cut_ord</th>\n",
              "      <th>clarity_ord</th>\n",
              "      <th>price</th>\n",
              "    </tr>\n",
              "  </thead>\n",
              "  <tbody>\n",
              "    <tr>\n",
              "      <th>count</th>\n",
              "      <td>50000.000000</td>\n",
              "      <td>50000.000000</td>\n",
              "      <td>50000.000000</td>\n",
              "      <td>50000.000000</td>\n",
              "      <td>50000.000000</td>\n",
              "    </tr>\n",
              "    <tr>\n",
              "      <th>mean</th>\n",
              "      <td>25000.500000</td>\n",
              "      <td>0.798597</td>\n",
              "      <td>3.903980</td>\n",
              "      <td>4.126700</td>\n",
              "      <td>3939.103500</td>\n",
              "    </tr>\n",
              "    <tr>\n",
              "      <th>std</th>\n",
              "      <td>14433.901067</td>\n",
              "      <td>0.474651</td>\n",
              "      <td>1.117043</td>\n",
              "      <td>1.665564</td>\n",
              "      <td>3995.879832</td>\n",
              "    </tr>\n",
              "    <tr>\n",
              "      <th>min</th>\n",
              "      <td>1.000000</td>\n",
              "      <td>0.200000</td>\n",
              "      <td>1.000000</td>\n",
              "      <td>1.000000</td>\n",
              "      <td>326.000000</td>\n",
              "    </tr>\n",
              "    <tr>\n",
              "      <th>25%</th>\n",
              "      <td>12500.750000</td>\n",
              "      <td>0.400000</td>\n",
              "      <td>3.000000</td>\n",
              "      <td>3.000000</td>\n",
              "      <td>948.000000</td>\n",
              "    </tr>\n",
              "    <tr>\n",
              "      <th>50%</th>\n",
              "      <td>25000.500000</td>\n",
              "      <td>0.700000</td>\n",
              "      <td>4.000000</td>\n",
              "      <td>4.000000</td>\n",
              "      <td>2402.500000</td>\n",
              "    </tr>\n",
              "    <tr>\n",
              "      <th>75%</th>\n",
              "      <td>37500.250000</td>\n",
              "      <td>1.040000</td>\n",
              "      <td>5.000000</td>\n",
              "      <td>5.000000</td>\n",
              "      <td>5331.000000</td>\n",
              "    </tr>\n",
              "    <tr>\n",
              "      <th>max</th>\n",
              "      <td>50000.000000</td>\n",
              "      <td>5.010000</td>\n",
              "      <td>5.000000</td>\n",
              "      <td>8.000000</td>\n",
              "      <td>18823.000000</td>\n",
              "    </tr>\n",
              "  </tbody>\n",
              "</table>\n",
              "</div>"
            ],
            "text/plain": [
              "         Unnamed: 0         carat       cut_ord   clarity_ord         price\n",
              "count  50000.000000  50000.000000  50000.000000  50000.000000  50000.000000\n",
              "mean   25000.500000      0.798597      3.903980      4.126700   3939.103500\n",
              "std    14433.901067      0.474651      1.117043      1.665564   3995.879832\n",
              "min        1.000000      0.200000      1.000000      1.000000    326.000000\n",
              "25%    12500.750000      0.400000      3.000000      3.000000    948.000000\n",
              "50%    25000.500000      0.700000      4.000000      4.000000   2402.500000\n",
              "75%    37500.250000      1.040000      5.000000      5.000000   5331.000000\n",
              "max    50000.000000      5.010000      5.000000      8.000000  18823.000000"
            ]
          },
          "metadata": {
            "tags": []
          },
          "execution_count": 75
        }
      ]
    },
    {
      "metadata": {
        "id": "JHUXsHW92bxZ",
        "colab_type": "code",
        "colab": {
          "base_uri": "https://localhost:8080/",
          "height": 204
        },
        "outputId": "4066dda6-a24c-4d84-b733-5406ad8b2d8b"
      },
      "cell_type": "code",
      "source": [
        "train_data[['cut', 'price']].groupby(['cut'],\n",
        "as_index=False).mean().sort_values(by='price', ascending=False)"
      ],
      "execution_count": 76,
      "outputs": [
        {
          "output_type": "execute_result",
          "data": {
            "text/html": [
              "<div>\n",
              "<style scoped>\n",
              "    .dataframe tbody tr th:only-of-type {\n",
              "        vertical-align: middle;\n",
              "    }\n",
              "\n",
              "    .dataframe tbody tr th {\n",
              "        vertical-align: top;\n",
              "    }\n",
              "\n",
              "    .dataframe thead th {\n",
              "        text-align: right;\n",
              "    }\n",
              "</style>\n",
              "<table border=\"1\" class=\"dataframe\">\n",
              "  <thead>\n",
              "    <tr style=\"text-align: right;\">\n",
              "      <th></th>\n",
              "      <th>cut</th>\n",
              "      <th>price</th>\n",
              "    </tr>\n",
              "  </thead>\n",
              "  <tbody>\n",
              "    <tr>\n",
              "      <th>3</th>\n",
              "      <td>Premium</td>\n",
              "      <td>4603.541041</td>\n",
              "    </tr>\n",
              "    <tr>\n",
              "      <th>0</th>\n",
              "      <td>Fair</td>\n",
              "      <td>4376.798667</td>\n",
              "    </tr>\n",
              "    <tr>\n",
              "      <th>4</th>\n",
              "      <td>Very Good</td>\n",
              "      <td>3971.252325</td>\n",
              "    </tr>\n",
              "    <tr>\n",
              "      <th>1</th>\n",
              "      <td>Good</td>\n",
              "      <td>3951.042006</td>\n",
              "    </tr>\n",
              "    <tr>\n",
              "      <th>2</th>\n",
              "      <td>Ideal</td>\n",
              "      <td>3460.059368</td>\n",
              "    </tr>\n",
              "  </tbody>\n",
              "</table>\n",
              "</div>"
            ],
            "text/plain": [
              "         cut        price\n",
              "3    Premium  4603.541041\n",
              "0       Fair  4376.798667\n",
              "4  Very Good  3971.252325\n",
              "1       Good  3951.042006\n",
              "2      Ideal  3460.059368"
            ]
          },
          "metadata": {
            "tags": []
          },
          "execution_count": 76
        }
      ]
    },
    {
      "metadata": {
        "id": "pHYljuEB3CFx",
        "colab_type": "code",
        "colab": {
          "base_uri": "https://localhost:8080/",
          "height": 297
        },
        "outputId": "b4ec75a1-01a2-4788-b3f1-47b27cb2fd9d"
      },
      "cell_type": "code",
      "source": [
        "train_data[['clarity', 'price']].groupby(['clarity'],\n",
        "as_index=False).mean().sort_values(by='price', ascending=False)"
      ],
      "execution_count": 77,
      "outputs": [
        {
          "output_type": "execute_result",
          "data": {
            "text/html": [
              "<div>\n",
              "<style scoped>\n",
              "    .dataframe tbody tr th:only-of-type {\n",
              "        vertical-align: middle;\n",
              "    }\n",
              "\n",
              "    .dataframe tbody tr th {\n",
              "        vertical-align: top;\n",
              "    }\n",
              "\n",
              "    .dataframe thead th {\n",
              "        text-align: right;\n",
              "    }\n",
              "</style>\n",
              "<table border=\"1\" class=\"dataframe\">\n",
              "  <thead>\n",
              "    <tr style=\"text-align: right;\">\n",
              "      <th></th>\n",
              "      <th>clarity</th>\n",
              "      <th>price</th>\n",
              "    </tr>\n",
              "  </thead>\n",
              "  <tbody>\n",
              "    <tr>\n",
              "      <th>3</th>\n",
              "      <td>SI2</td>\n",
              "      <td>5044.498181</td>\n",
              "    </tr>\n",
              "    <tr>\n",
              "      <th>2</th>\n",
              "      <td>SI1</td>\n",
              "      <td>4012.262214</td>\n",
              "    </tr>\n",
              "    <tr>\n",
              "      <th>5</th>\n",
              "      <td>VS2</td>\n",
              "      <td>3938.415236</td>\n",
              "    </tr>\n",
              "    <tr>\n",
              "      <th>0</th>\n",
              "      <td>I1</td>\n",
              "      <td>3934.182216</td>\n",
              "    </tr>\n",
              "    <tr>\n",
              "      <th>4</th>\n",
              "      <td>VS1</td>\n",
              "      <td>3857.328596</td>\n",
              "    </tr>\n",
              "    <tr>\n",
              "      <th>7</th>\n",
              "      <td>VVS2</td>\n",
              "      <td>3265.376596</td>\n",
              "    </tr>\n",
              "    <tr>\n",
              "      <th>1</th>\n",
              "      <td>IF</td>\n",
              "      <td>2900.381096</td>\n",
              "    </tr>\n",
              "    <tr>\n",
              "      <th>6</th>\n",
              "      <td>VVS1</td>\n",
              "      <td>2523.937260</td>\n",
              "    </tr>\n",
              "  </tbody>\n",
              "</table>\n",
              "</div>"
            ],
            "text/plain": [
              "  clarity        price\n",
              "3     SI2  5044.498181\n",
              "2     SI1  4012.262214\n",
              "5     VS2  3938.415236\n",
              "0      I1  3934.182216\n",
              "4     VS1  3857.328596\n",
              "7    VVS2  3265.376596\n",
              "1      IF  2900.381096\n",
              "6    VVS1  2523.937260"
            ]
          },
          "metadata": {
            "tags": []
          },
          "execution_count": 77
        }
      ]
    },
    {
      "metadata": {
        "id": "Y5NJ01eb3SEg",
        "colab_type": "code",
        "colab": {
          "base_uri": "https://localhost:8080/",
          "height": 266
        },
        "outputId": "8570455a-b121-4f85-b803-7f90bcb13b97"
      },
      "cell_type": "code",
      "source": [
        "train_data[['color', 'price']].groupby(['color'],\n",
        "as_index=False).mean().sort_values(by='price', ascending=False)"
      ],
      "execution_count": 78,
      "outputs": [
        {
          "output_type": "execute_result",
          "data": {
            "text/html": [
              "<div>\n",
              "<style scoped>\n",
              "    .dataframe tbody tr th:only-of-type {\n",
              "        vertical-align: middle;\n",
              "    }\n",
              "\n",
              "    .dataframe tbody tr th {\n",
              "        vertical-align: top;\n",
              "    }\n",
              "\n",
              "    .dataframe thead th {\n",
              "        text-align: right;\n",
              "    }\n",
              "</style>\n",
              "<table border=\"1\" class=\"dataframe\">\n",
              "  <thead>\n",
              "    <tr style=\"text-align: right;\">\n",
              "      <th></th>\n",
              "      <th>color</th>\n",
              "      <th>price</th>\n",
              "    </tr>\n",
              "  </thead>\n",
              "  <tbody>\n",
              "    <tr>\n",
              "      <th>6</th>\n",
              "      <td>J</td>\n",
              "      <td>5319.618426</td>\n",
              "    </tr>\n",
              "    <tr>\n",
              "      <th>5</th>\n",
              "      <td>I</td>\n",
              "      <td>5114.188534</td>\n",
              "    </tr>\n",
              "    <tr>\n",
              "      <th>4</th>\n",
              "      <td>H</td>\n",
              "      <td>4498.827362</td>\n",
              "    </tr>\n",
              "    <tr>\n",
              "      <th>3</th>\n",
              "      <td>G</td>\n",
              "      <td>4002.829728</td>\n",
              "    </tr>\n",
              "    <tr>\n",
              "      <th>2</th>\n",
              "      <td>F</td>\n",
              "      <td>3728.511930</td>\n",
              "    </tr>\n",
              "    <tr>\n",
              "      <th>0</th>\n",
              "      <td>D</td>\n",
              "      <td>3147.136407</td>\n",
              "    </tr>\n",
              "    <tr>\n",
              "      <th>1</th>\n",
              "      <td>E</td>\n",
              "      <td>3087.448653</td>\n",
              "    </tr>\n",
              "  </tbody>\n",
              "</table>\n",
              "</div>"
            ],
            "text/plain": [
              "  color        price\n",
              "6     J  5319.618426\n",
              "5     I  5114.188534\n",
              "4     H  4498.827362\n",
              "3     G  4002.829728\n",
              "2     F  3728.511930\n",
              "0     D  3147.136407\n",
              "1     E  3087.448653"
            ]
          },
          "metadata": {
            "tags": []
          },
          "execution_count": 78
        }
      ]
    },
    {
      "metadata": {
        "id": "P9oX-QAl3g5S",
        "colab_type": "code",
        "colab": {
          "base_uri": "https://localhost:8080/",
          "height": 204
        },
        "outputId": "ab456c36-446e-4ca3-f02c-c1005ba72989"
      },
      "cell_type": "code",
      "source": [
        "test_data.head()"
      ],
      "execution_count": 79,
      "outputs": [
        {
          "output_type": "execute_result",
          "data": {
            "text/html": [
              "<div>\n",
              "<style scoped>\n",
              "    .dataframe tbody tr th:only-of-type {\n",
              "        vertical-align: middle;\n",
              "    }\n",
              "\n",
              "    .dataframe tbody tr th {\n",
              "        vertical-align: top;\n",
              "    }\n",
              "\n",
              "    .dataframe thead th {\n",
              "        text-align: right;\n",
              "    }\n",
              "</style>\n",
              "<table border=\"1\" class=\"dataframe\">\n",
              "  <thead>\n",
              "    <tr style=\"text-align: right;\">\n",
              "      <th></th>\n",
              "      <th>Unnamed: 0</th>\n",
              "      <th>carat</th>\n",
              "      <th>cut</th>\n",
              "      <th>cut_ord</th>\n",
              "      <th>color</th>\n",
              "      <th>clarity</th>\n",
              "      <th>clarity_ord</th>\n",
              "    </tr>\n",
              "  </thead>\n",
              "  <tbody>\n",
              "    <tr>\n",
              "      <th>0</th>\n",
              "      <td>1</td>\n",
              "      <td>1.22</td>\n",
              "      <td>Premium</td>\n",
              "      <td>4</td>\n",
              "      <td>G</td>\n",
              "      <td>SI1</td>\n",
              "      <td>3</td>\n",
              "    </tr>\n",
              "    <tr>\n",
              "      <th>1</th>\n",
              "      <td>2</td>\n",
              "      <td>1.01</td>\n",
              "      <td>Good</td>\n",
              "      <td>2</td>\n",
              "      <td>G</td>\n",
              "      <td>VS2</td>\n",
              "      <td>5</td>\n",
              "    </tr>\n",
              "    <tr>\n",
              "      <th>2</th>\n",
              "      <td>3</td>\n",
              "      <td>0.71</td>\n",
              "      <td>Very Good</td>\n",
              "      <td>3</td>\n",
              "      <td>I</td>\n",
              "      <td>VS2</td>\n",
              "      <td>5</td>\n",
              "    </tr>\n",
              "    <tr>\n",
              "      <th>3</th>\n",
              "      <td>4</td>\n",
              "      <td>1.01</td>\n",
              "      <td>Ideal</td>\n",
              "      <td>5</td>\n",
              "      <td>D</td>\n",
              "      <td>SI2</td>\n",
              "      <td>2</td>\n",
              "    </tr>\n",
              "    <tr>\n",
              "      <th>4</th>\n",
              "      <td>5</td>\n",
              "      <td>0.27</td>\n",
              "      <td>Ideal</td>\n",
              "      <td>5</td>\n",
              "      <td>H</td>\n",
              "      <td>VVS2</td>\n",
              "      <td>6</td>\n",
              "    </tr>\n",
              "  </tbody>\n",
              "</table>\n",
              "</div>"
            ],
            "text/plain": [
              "   Unnamed: 0  carat        cut  cut_ord color clarity  clarity_ord\n",
              "0           1   1.22    Premium        4     G     SI1            3\n",
              "1           2   1.01       Good        2     G     VS2            5\n",
              "2           3   0.71  Very Good        3     I     VS2            5\n",
              "3           4   1.01      Ideal        5     D     SI2            2\n",
              "4           5   0.27      Ideal        5     H    VVS2            6"
            ]
          },
          "metadata": {
            "tags": []
          },
          "execution_count": 79
        }
      ]
    },
    {
      "metadata": {
        "id": "vu_X_hhk4zfZ",
        "colab_type": "code",
        "colab": {
          "base_uri": "https://localhost:8080/",
          "height": 34
        },
        "outputId": "5bc29a49-131e-4354-ee9c-908ebd68a036"
      },
      "cell_type": "code",
      "source": [
        "test_data.shape"
      ],
      "execution_count": 80,
      "outputs": [
        {
          "output_type": "execute_result",
          "data": {
            "text/plain": [
              "(3000, 7)"
            ]
          },
          "metadata": {
            "tags": []
          },
          "execution_count": 80
        }
      ]
    },
    {
      "metadata": {
        "id": "nOL4iBTi42fQ",
        "colab_type": "code",
        "colab": {}
      },
      "cell_type": "code",
      "source": [
        "y_train_data = train_data.price\n",
        "list= ['Unnamed: 0','price']\n",
        "x_train_data = train_data.drop(list,axis=1)"
      ],
      "execution_count": 0,
      "outputs": []
    },
    {
      "metadata": {
        "id": "l2iCmC8Q6G_A",
        "colab_type": "code",
        "colab": {}
      },
      "cell_type": "code",
      "source": [
        "list2 = ['Unnamed: 0']\n",
        "x_test_data = test_data.drop(list2,axis=1)"
      ],
      "execution_count": 0,
      "outputs": []
    },
    {
      "metadata": {
        "id": "vsGzHQPf6bbf",
        "colab_type": "code",
        "colab": {
          "base_uri": "https://localhost:8080/",
          "height": 34
        },
        "outputId": "77cb5038-65f5-46f8-8150-193ec1308a9e"
      },
      "cell_type": "code",
      "source": [
        "x_train_data.shape"
      ],
      "execution_count": 83,
      "outputs": [
        {
          "output_type": "execute_result",
          "data": {
            "text/plain": [
              "(50000, 6)"
            ]
          },
          "metadata": {
            "tags": []
          },
          "execution_count": 83
        }
      ]
    },
    {
      "metadata": {
        "id": "sUw13ZSE6gT5",
        "colab_type": "code",
        "colab": {
          "base_uri": "https://localhost:8080/",
          "height": 34
        },
        "outputId": "f249c8ae-4691-4dda-8fd1-20451acbe1a5"
      },
      "cell_type": "code",
      "source": [
        "x_test_data.shape"
      ],
      "execution_count": 84,
      "outputs": [
        {
          "output_type": "execute_result",
          "data": {
            "text/plain": [
              "(3000, 6)"
            ]
          },
          "metadata": {
            "tags": []
          },
          "execution_count": 84
        }
      ]
    },
    {
      "metadata": {
        "id": "XaqFutb06kep",
        "colab_type": "code",
        "colab": {}
      },
      "cell_type": "code",
      "source": [
        "x_train_data = pd.get_dummies(x_train_data)\n",
        "x_test_data = pd.get_dummies(x_test_data)"
      ],
      "execution_count": 0,
      "outputs": []
    },
    {
      "metadata": {
        "id": "kxkSTwWG7WTa",
        "colab_type": "code",
        "colab": {}
      },
      "cell_type": "code",
      "source": [
        "from sklearn.linear_model import LinearRegression\n",
        "model = LinearRegression()"
      ],
      "execution_count": 0,
      "outputs": []
    },
    {
      "metadata": {
        "id": "AbFA0zHa7uH0",
        "colab_type": "code",
        "colab": {
          "base_uri": "https://localhost:8080/",
          "height": 34
        },
        "outputId": "5291e95e-546a-4e89-aafd-753e4487f5d4"
      },
      "cell_type": "code",
      "source": [
        "model.fit(x_train_data,y_train_data)"
      ],
      "execution_count": 87,
      "outputs": [
        {
          "output_type": "execute_result",
          "data": {
            "text/plain": [
              "LinearRegression(copy_X=True, fit_intercept=True, n_jobs=1, normalize=False)"
            ]
          },
          "metadata": {
            "tags": []
          },
          "execution_count": 87
        }
      ]
    },
    {
      "metadata": {
        "id": "nrWC-5Zs79_f",
        "colab_type": "code",
        "colab": {
          "base_uri": "https://localhost:8080/",
          "height": 34
        },
        "outputId": "f6d440b5-2255-435b-f3cc-d63559a50969"
      },
      "cell_type": "code",
      "source": [
        "model.score(x_train_data,y_train_data)"
      ],
      "execution_count": 88,
      "outputs": [
        {
          "output_type": "execute_result",
          "data": {
            "text/plain": [
              "0.9162528260544507"
            ]
          },
          "metadata": {
            "tags": []
          },
          "execution_count": 88
        }
      ]
    },
    {
      "metadata": {
        "id": "gJUdjmX68Hdq",
        "colab_type": "code",
        "colab": {}
      },
      "cell_type": "code",
      "source": [
        "prediction=model.predict(x_test_data)"
      ],
      "execution_count": 0,
      "outputs": []
    },
    {
      "metadata": {
        "id": "Eh_opo2G8NXn",
        "colab_type": "code",
        "colab": {
          "base_uri": "https://localhost:8080/",
          "height": 51
        },
        "outputId": "a16970c9-314c-4ae1-d866-44ce1c01cd11"
      },
      "cell_type": "code",
      "source": [
        "print(prediction)"
      ],
      "execution_count": 90,
      "outputs": [
        {
          "output_type": "stream",
          "text": [
            "[7421.61082086 5994.74244105 2570.56091193 ... 5888.56941833 1910.89995099\n",
            " 5732.96174696]\n"
          ],
          "name": "stdout"
        }
      ]
    },
    {
      "metadata": {
        "id": "aZskQOnX9UFU",
        "colab_type": "code",
        "colab": {
          "base_uri": "https://localhost:8080/",
          "height": 102
        },
        "outputId": "62b14b88-80ee-4eb2-de42-98acd3e9694e"
      },
      "cell_type": "code",
      "source": [
        "from sklearn.tree import DecisionTreeRegressor\n",
        "decisiontree = DecisionTreeRegressor()\n",
        "decisiontree.fit(x_train_data,y_train_data)"
      ],
      "execution_count": 91,
      "outputs": [
        {
          "output_type": "execute_result",
          "data": {
            "text/plain": [
              "DecisionTreeRegressor(criterion='mse', max_depth=None, max_features=None,\n",
              "           max_leaf_nodes=None, min_impurity_decrease=0.0,\n",
              "           min_impurity_split=None, min_samples_leaf=1,\n",
              "           min_samples_split=2, min_weight_fraction_leaf=0.0,\n",
              "           presort=False, random_state=None, splitter='best')"
            ]
          },
          "metadata": {
            "tags": []
          },
          "execution_count": 91
        }
      ]
    },
    {
      "metadata": {
        "id": "IFPu85QE1beN",
        "colab_type": "code",
        "colab": {
          "base_uri": "https://localhost:8080/",
          "height": 34
        },
        "outputId": "2a384059-2e05-477b-825b-29f169001ded"
      },
      "cell_type": "code",
      "source": [
        "decisiontree.score(x_train_data,y_train_data)"
      ],
      "execution_count": 92,
      "outputs": [
        {
          "output_type": "execute_result",
          "data": {
            "text/plain": [
              "0.9913698216968141"
            ]
          },
          "metadata": {
            "tags": []
          },
          "execution_count": 92
        }
      ]
    },
    {
      "metadata": {
        "id": "8kxT063p1mv5",
        "colab_type": "code",
        "colab": {}
      },
      "cell_type": "code",
      "source": [
        "prediction1 = decisiontree.predict(x_test_data)"
      ],
      "execution_count": 0,
      "outputs": []
    },
    {
      "metadata": {
        "id": "TOVWUNhm1vb4",
        "colab_type": "code",
        "colab": {
          "base_uri": "https://localhost:8080/",
          "height": 51
        },
        "outputId": "863ee1c1-42c8-41d3-ab7c-fd0c96aaa06c"
      },
      "cell_type": "code",
      "source": [
        "print(prediction1)"
      ],
      "execution_count": 94,
      "outputs": [
        {
          "output_type": "stream",
          "text": [
            "[6481.         5849.94444444 2131.83333333 ... 5020.75       2154.25\n",
            " 5088.26666667]\n"
          ],
          "name": "stdout"
        }
      ]
    },
    {
      "metadata": {
        "id": "U-l-3hd711Os",
        "colab_type": "code",
        "colab": {}
      },
      "cell_type": "code",
      "source": [
        ""
      ],
      "execution_count": 0,
      "outputs": []
    }
  ]
}